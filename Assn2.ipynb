{
 "cells": [
  {
   "cell_type": "markdown",
   "id": "5e991a2a",
   "metadata": {},
   "source": [
    "# Assignment 2: Implementing Feedforward neural networks with Keras and TensorFlow"
   ]
  },
  {
   "cell_type": "markdown",
   "id": "0beacf28",
   "metadata": {},
   "source": [
    "## a. Import the necessary packages"
   ]
  },
  {
   "cell_type": "code",
   "execution_count": 1,
   "id": "6bc62f96",
   "metadata": {},
   "outputs": [],
   "source": [
    "import tensorflow as tf\n",
    "from tensorflow import keras\n",
    "import matplotlib.pyplot as plt\n",
    "import random\n",
    "import numpy as np"
   ]
  },
  {
   "cell_type": "markdown",
   "id": "790a788b",
   "metadata": {},
   "source": [
    "## b. Load the training and testing data (MNIST/CIFAR10)"
   ]
  },
  {
   "cell_type": "code",
   "execution_count": 2,
   "id": "65ca157c",
   "metadata": {},
   "outputs": [
    {
     "data": {
      "text/plain": [
       "60000"
      ]
     },
     "execution_count": 2,
     "metadata": {},
     "output_type": "execute_result"
    }
   ],
   "source": [
    "mnist_dataset = tf.keras.datasets.mnist\n",
    "(train_images, train_labels), (test_images, test_labels) = mnist_dataset.load_data()\n",
    "len(train_images)"
   ]
  },
  {
   "cell_type": "code",
   "execution_count": 3,
   "id": "64e260cd",
   "metadata": {},
   "outputs": [
    {
     "data": {
      "image/png": "[encoded data removed]",
      "text/plain": [
       "<Figure size 432x432 with 9 Axes>"
      ]
     },
     "metadata": {
      "needs_background": "light"
     },
     "output_type": "display_data"
    }
   ],
   "source": [
    "# Define the number of rows and columns for the grid\n",
    "num_rows, num_cols = 3, 3\n",
    "num_images = num_rows * num_cols\n",
    "\n",
    "# Create a grid of images\n",
    "plt.figure(figsize=(2*num_cols, 2*num_rows))\n",
    "for i in range(num_images):\n",
    "    plt.subplot(num_rows, num_cols, i + 1)\n",
    "    plt.imshow(train_images[i])\n",
    "    plt.title(str(train_labels[i]))\n",
    "\n",
    "plt.tight_layout()\n",
    "plt.show()"
   ]
  },
  {
   "cell_type": "markdown",
   "id": "111deb8a",
   "metadata": {},
   "source": [
    "The lines `x_train = x_train/255` and `x_test = x_test/255` are performing a common preprocessing step in machine learning called **normalization**. In the context of image data, especially grayscale images like those in the MNIST dataset, pixel values usually range from 0 to 255. Normalization scales these pixel values to a range between 0 and 1.\n",
    "\n",
    "Dividing each pixel value by 255 effectively transforms the pixel values from the original range [0, 255] to the normalized range [0, 1]. Normalization is important because it ensures that all features (in this case, pixel values) have a similar scale. This can help improve the convergence and training stability of neural networks.\n",
    "\n",
    "Additionally, normalizing the data prevents issues where certain features with larger scales dominate the learning process, leading the model to be biased toward those features. By bringing all the features to a similar scale, normalization helps the neural network learn the underlying patterns in the data more effectively, which can result in better model performance."
   ]
  },
  {
   "cell_type": "code",
   "execution_count": 4,
   "id": "063beeed",
   "metadata": {},
   "outputs": [],
   "source": [
    "train_images = train_images/255\n",
    "test_images = test_images/255"
   ]
  },
  {
   "cell_type": "markdown",
   "id": "683b73df",
   "metadata": {},
   "source": [
    "## c. Define the network architecture using Keras"
   ]
  },
  {
   "cell_type": "code",
   "execution_count": 5,
   "id": "9a283703",
   "metadata": {},
   "outputs": [],
   "source": [
    "model = keras.Sequential([ # the model starts with a Flatten layer to prepare the input.\n",
    "    keras.layers.Flatten(input_shape=(28, 28)),\n",
    "    keras.layers.Dense(128, activation='relu'),\n",
    "    keras.layers.Dense(10, activation='softmax')\n",
    "])"
   ]
  },
  {
   "cell_type": "markdown",
   "id": "2df7ce16",
   "metadata": {},
   "source": [
    "This code defines a neural network model using the Keras API, which is a high-level neural networks API running on top of TensorFlow. The model is designed for the MNIST dataset, which consists of 28x28 grayscale images of handwritten digits (0 through 9).\n",
    "\n",
    "```python\n",
    "model = keras.Sequential([\n",
    "    keras.layers.Flatten(input_shape=(28, 28)),  # Flatten layer to prepare the input (28x28 images are flattened into 1D arrays)\n",
    "    keras.layers.Dense(128, activation='relu'),  # Fully connected dense layer with 128 units and ReLU activation function\n",
    "    keras.layers.Dense(10, activation='softmax')  # Output layer with 10 units (for 10 classes) and softmax activation function\n",
    "])\n",
    "```\n",
    "\n",
    "1. **`keras.layers.Flatten(input_shape=(28, 28))`:** The first layer of the model is a Flatten layer. It transforms the 2D array representing the 28x28 pixel images into a 1D array of 784 pixels. This flattening process is necessary to convert the image data into a format that can be processed by the subsequent dense layers. The `input_shape=(28, 28)` argument specifies the shape of the input data, which is 28x28 pixels for each image.\n",
    "\n",
    "2. **`keras.layers.Dense(128, activation='relu')`:** After flattening the input, the data is passed through a dense (fully connected) layer with 128 units (neurons). Each neuron in this layer receives input from all 784 pixels of the flattened image. The activation function used in this layer is ReLU (Rectified Linear Unit), which introduces non-linearity into the model. ReLU is commonly used in hidden layers of neural networks as it helps the network learn complex patterns in the data.\n",
    "\n",
    "3. **`keras.layers.Dense(10, activation='softmax')`:** The final layer is another dense layer with 10 units. This layer represents the output layer of the network. Since the task is to classify the input images into 10 different classes (digits 0 through 9), the output layer has 10 units corresponding to these classes. The activation function used here is softmax, which calculates probabilities for each class. Softmax ensures that the sum of the probabilities for all classes is equal to 1, making it suitable for multi-class classification problems.\n",
    "\n",
    "To summarize, the model takes 28x28 pixel images as input, flattens them into 1D arrays, processes them through a hidden layer with 128 neurons and ReLU activation, and finally outputs probabilities for each of the 10 classes using the softmax activation function. This architecture is a basic example of a neural network suitable for image classification tasks like MNIST digit recognition."
   ]
  },
  {
   "cell_type": "code",
   "execution_count": 6,
   "id": "1435b278",
   "metadata": {},
   "outputs": [
    {
     "name": "stdout",
     "output_type": "stream",
     "text": [
      "Model: \"sequential\"\n",
      "_________________________________________________________________\n",
      " Layer (type)                Output Shape              Param #   \n",
      "=================================================================\n",
      " flatten (Flatten)           (None, 784)               0         \n",
      "                                                                 \n",
      " dense (Dense)               (None, 128)               100480    \n",
      "                                                                 \n",
      " dense_1 (Dense)             (None, 10)                1290      \n",
      "                                                                 \n",
      "=================================================================\n",
      "Total params: 101,770\n",
      "Trainable params: 101,770\n",
      "Non-trainable params: 0\n",
      "_________________________________________________________________\n"
     ]
    }
   ],
   "source": [
    "model.summary()"
   ]
  },
  {
   "cell_type": "markdown",
   "id": "122aada3",
   "metadata": {},
   "source": [
    "## d. Train the model using SGD"
   ]
  },
  {
   "cell_type": "code",
   "execution_count": 7,
   "id": "4b32aafe",
   "metadata": {},
   "outputs": [],
   "source": [
    "model.compile(optimizer='sgd', # stochastic gradient descent\n",
    "             loss='sparse_categorical_crossentropy', # Use this crossentropy loss function when there are \n",
    "              #two or more label classes. We expect labels to be provided as integers, mutually exclusive events\n",
    "             metrics=['accuracy']) # parameter is accuracy"
   ]
  },
  {
   "cell_type": "markdown",
   "id": "8bc22a2d",
   "metadata": {},
   "source": [
    "The `model.compile()` function in Keras is used to configure the learning process of the neural network. It requires several arguments to be specified, including the optimizer, loss function, and evaluation metrics. Let's break down the provided code in detail:\n",
    "\n",
    "```python\n",
    "model.compile(optimizer='sgd',  # Stochastic Gradient Descent (SGD) optimizer\n",
    "              loss='sparse_categorical_crossentropy',  # Sparse categorical crossentropy loss function\n",
    "              metrics=['accuracy'])  # Metric to evaluate the model's performance: accuracy\n",
    "```\n",
    "\n",
    "1. **`optimizer='sgd'`:** The optimizer determines how the neural network's weights are updated during training. In this case, `'sgd'` refers to Stochastic Gradient Descent (SGD). SGD is a widely used optimization algorithm that updates the model's weights iteratively based on the gradients of the loss function with respect to the weights. It's called \"stochastic\" because it uses a subset of the training data (a batch) to compute gradients, making the optimization process faster and more scalable for large datasets.\n",
    "\n",
    "2. **`loss='sparse_categorical_crossentropy'`:** The loss function (or objective function) quantifies how well the model is performing. For multi-class classification problems (where each input belongs to one of several classes), `'sparse_categorical_crossentropy'` is a suitable choice. It calculates the cross-entropy loss between the true labels and the predicted probabilities. In this context, \"sparse\" means that the true labels are integers rather than one-hot encoded vectors. The goal during training is to minimize this loss, which results in the model learning to make accurate predictions.\n",
    "\n",
    "3. **`metrics=['accuracy']`:** Metrics are used to evaluate the model's performance during training and testing. In this case, the metric specified is `'accuracy'`. Accuracy measures the proportion of correctly classified samples out of the total number of samples. It's a commonly used metric for classification tasks and provides an intuitive understanding of the model's performance. During training, the optimizer tries to maximize accuracy by adjusting the model's weights.\n",
    "\n"
   ]
  },
  {
   "cell_type": "code",
   "execution_count": 8,
   "id": "02e51a6d",
   "metadata": {},
   "outputs": [
    {
     "name": "stdout",
     "output_type": "stream",
     "text": [
      "Epoch 1/10\n",
      "1875/1875 [==============================] - 4s 2ms/step - loss: 0.6422 - accuracy: 0.8361 - val_loss: 0.3573 - val_accuracy: 0.9015\n",
      "Epoch 2/10\n",
      "1875/1875 [==============================] - 3s 2ms/step - loss: 0.3357 - accuracy: 0.9061 - val_loss: 0.2913 - val_accuracy: 0.9167\n",
      "Epoch 3/10\n",
      "1875/1875 [==============================] - 3s 2ms/step - loss: 0.2873 - accuracy: 0.9192 - val_loss: 0.2581 - val_accuracy: 0.9265\n",
      "Epoch 4/10\n",
      "1875/1875 [==============================] - 3s 2ms/step - loss: 0.2580 - accuracy: 0.9272 - val_loss: 0.2397 - val_accuracy: 0.9313\n",
      "Epoch 5/10\n",
      "1875/1875 [==============================] - 4s 2ms/step - loss: 0.2358 - accuracy: 0.9337 - val_loss: 0.2251 - val_accuracy: 0.9356\n",
      "Epoch 6/10\n",
      "1875/1875 [==============================] - 4s 2ms/step - loss: 0.2178 - accuracy: 0.9385 - val_loss: 0.2045 - val_accuracy: 0.9408\n",
      "Epoch 7/10\n",
      "1875/1875 [==============================] - 4s 2ms/step - loss: 0.2027 - accuracy: 0.9424 - val_loss: 0.1931 - val_accuracy: 0.9442\n",
      "Epoch 8/10\n",
      "1875/1875 [==============================] - 4s 2ms/step - loss: 0.1897 - accuracy: 0.9461 - val_loss: 0.1798 - val_accuracy: 0.9473\n",
      "Epoch 9/10\n",
      "1875/1875 [==============================] - 4s 2ms/step - loss: 0.1782 - accuracy: 0.9491 - val_loss: 0.1733 - val_accuracy: 0.9505\n",
      "Epoch 10/10\n",
      "1875/1875 [==============================] - 4s 2ms/step - loss: 0.1679 - accuracy: 0.9520 - val_loss: 0.1659 - val_accuracy: 0.9519\n"
     ]
    }
   ],
   "source": [
    "history = model.fit(train_images, train_labels, validation_data=(test_images, test_labels), epochs=10)"
   ]
  },
  {
   "cell_type": "markdown",
   "id": "825b86f0",
   "metadata": {},
   "source": [
    "## e. Evaluate the network"
   ]
  },
  {
   "cell_type": "code",
   "execution_count": 9,
   "id": "9eae3bf1",
   "metadata": {},
   "outputs": [
    {
     "name": "stdout",
     "output_type": "stream",
     "text": [
      "313/313 [==============================] - 1s 2ms/step - loss: 0.1659 - accuracy: 0.9519\n",
      "Loss=0.166\n",
      "Accuracy=0.952\n"
     ]
    }
   ],
   "source": [
    "test_loss, test_acc = model.evaluate(test_images, test_labels)\n",
    "print(\"Loss=%.3f\"%test_loss)\n",
    "print(\"Accuracy=%.3f\"%test_acc)"
   ]
  },
  {
   "cell_type": "code",
   "execution_count": 10,
   "id": "7022c91d",
   "metadata": {},
   "outputs": [
    {
     "name": "stdout",
     "output_type": "stream",
     "text": [
      "313/313 [==============================] - 1s 1ms/step\n"
     ]
    },
    {
     "data": {
      "image/png": "[encoded data removed]",
      "text/plain": [
       "<Figure size 432x288 with 1 Axes>"
      ]
     },
     "metadata": {
      "needs_background": "light"
     },
     "output_type": "display_data"
    },
    {
     "name": "stdout",
     "output_type": "stream",
     "text": [
      "313/313 [==============================] - 1s 2ms/step\n"
     ]
    },
    {
     "data": {
      "image/png": "[encoded data removed]",
      "text/plain": [
       "<Figure size 432x288 with 1 Axes>"
      ]
     },
     "metadata": {
      "needs_background": "light"
     },
     "output_type": "display_data"
    },
    {
     "name": "stdout",
     "output_type": "stream",
     "text": [
      "313/313 [==============================] - 0s 1ms/step\n"
     ]
    },
    {
     "data": {
      "image/png": "[encoded data removed]",
      "text/plain": [
       "<Figure size 432x288 with 1 Axes>"
      ]
     },
     "metadata": {
      "needs_background": "light"
     },
     "output_type": "display_data"
    },
    {
     "name": "stdout",
     "output_type": "stream",
     "text": [
      "313/313 [==============================] - 0s 1ms/step\n"
     ]
    },
    {
     "data": {
      "image/png": "[encoded data removed]",
      "text/plain": [
       "<Figure size 432x288 with 1 Axes>"
      ]
     },
     "metadata": {
      "needs_background": "light"
     },
     "output_type": "display_data"
    },
    {
     "name": "stdout",
     "output_type": "stream",
     "text": [
      "313/313 [==============================] - 0s 1ms/step\n"
     ]
    },
    {
     "data": {
      "image/png": "[encoded data removed]",
      "text/plain": [
       "<Figure size 432x288 with 1 Axes>"
      ]
     },
     "metadata": {
      "needs_background": "light"
     },
     "output_type": "display_data"
    }
   ],
   "source": [
    "for i in range(5):\n",
    "    n = random.randint(0,9999)\n",
    "    plt.imshow(test_images[n])\n",
    "    predicted_value=model.predict(test_images)\n",
    "    plt.title(\"Handwritten number in the image is: %d\" %np.argmax(predicted_value[n]))\n",
    "    plt.show()"
   ]
  },
  {
   "cell_type": "markdown",
   "id": "4fe5ed33",
   "metadata": {},
   "source": [
    "In the given code block, the `np.argmax()` function is used to obtain the index corresponding to the maximum value in the predicted output probabilities for each input image. Let me break down the code and explain why `np.argmax()` is used:\n",
    "\n",
    "\n",
    "3. **Making Predictions:**\n",
    "   ```python\n",
    "   predicted_value = model.predict(x_test)\n",
    "   ```\n",
    "   The model's `predict()` method is used to obtain the predicted probabilities for all classes (digits 0 to 9) for all test images in the `x_test` array.\n",
    "\n",
    "4. **Using `np.argmax()` to Get Predicted Digit:**\n",
    "   ```python\n",
    "   plt.title(\"Predicted value %d\" % np.argmax(predicted_value[n]))\n",
    "   ```\n",
    "   - `predicted_value[n]` represents the predicted probabilities for the `n`-th test image.\n",
    "   - `np.argmax(predicted_value[n])` returns the index (digit) with the highest probability from the predicted probabilities for the `n`-th test image.\n",
    "   - `plt.title(\"Predicted value %d\" % np.argmax(predicted_value[n]))` sets the title of the displayed image plot to show the predicted digit.\n",
    "\n",
    "Using `np.argmax()` is essential in this context because it helps identify which digit the model predicts based on the highest probability among the output probabilities. The index with the maximum probability corresponds to the predicted digit for a given test image."
   ]
  },
  {
   "cell_type": "markdown",
   "id": "5e687542",
   "metadata": {},
   "source": [
    "## f. Plot the training loss and accuracy"
   ]
  },
  {
   "cell_type": "markdown",
   "id": "45937431",
   "metadata": {},
   "source": [
    "### Training Accuracy \n",
    "\n",
    "Training Accuracy:\n",
    "Training accuracy measures the model's ability to correctly classify training samples. It represents the percentage of accurately predicted samples out of the total training data. Maximizing training accuracy indicates the model's proficiency in learning the training dataset's patterns, although it may not guarantee strong generalization on unseen data.\n"
   ]
  },
  {
   "cell_type": "code",
   "execution_count": 11,
   "id": "af00a752",
   "metadata": {},
   "outputs": [
    {
     "data": {
      "image/png": "[encoded data removed]",
      "text/plain": [
       "<Figure size 432x288 with 1 Axes>"
      ]
     },
     "metadata": {
      "needs_background": "light"
     },
     "output_type": "display_data"
    }
   ],
   "source": [
    "plt.plot(history.history['accuracy'])\n",
    "plt.plot(history.history['val_accuracy'])\n",
    "plt.title('model accuracy')\n",
    "plt.ylabel('accuracy')\n",
    "plt.xlabel('epoch')\n",
    "plt.legend(['Train', 'Validation'], loc='upper left')\n",
    "plt.show()"
   ]
  },
  {
   "cell_type": "markdown",
   "id": "7d607aaf",
   "metadata": {},
   "source": [
    "### Training Loss\n",
    "\n",
    "Training Loss:\n",
    "Training loss quantifies the disparity between predicted and actual values during training. Minimizing this metric ensures the model's predictions align closely with ground truth, enhancing its accuracy and effectiveness in making predictions."
   ]
  },
  {
   "cell_type": "code",
   "execution_count": 12,
   "id": "f42199e1",
   "metadata": {},
   "outputs": [
    {
     "data": {
      "image/png": "[encoded data removed]",
      "text/plain": [
       "<Figure size 432x288 with 1 Axes>"
      ]
     },
     "metadata": {
      "needs_background": "light"
     },
     "output_type": "display_data"
    }
   ],
   "source": [
    "plt.plot(history.history['loss'])\n",
    "plt.plot(history.history['val_loss'])\n",
    "plt.title('model loss')\n",
    "plt.ylabel('loss')\n",
    "plt.xlabel('epoch')\n",
    "plt.legend(['Train', 'Validation'], loc='upper left')\n",
    "plt.show()"
   ]
  },
  {
   "cell_type": "code",
   "execution_count": null,
   "id": "8dba6e83",
   "metadata": {},
   "outputs": [],
   "source": []
  }
 ],
 "metadata": {
  "kernelspec": {
   "display_name": "Python 3 (ipykernel)",
   "language": "python",
   "name": "python3"
  },
  "language_info": {
   "codemirror_mode": {
    "name": "ipython",
    "version": 3
   },
   "file_extension": ".py",
   "mimetype": "text/x-python",
   "name": "python",
   "nbconvert_exporter": "python",
   "pygments_lexer": "ipython3",
   "version": "3.9.12"
  }
 },
 "nbformat": 4,
 "nbformat_minor": 5
}
